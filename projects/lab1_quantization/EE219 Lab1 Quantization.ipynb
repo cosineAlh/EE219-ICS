{
 "cells": [
  {
   "cell_type": "markdown",
   "metadata": {
    "id": "zTvIwDlYvBzC"
   },
   "source": [
    "Lab 1 Quantization\n",
    "==================\n",
    "Originally developed by instructor Sophia (Yakun) Shao and TAs Alon Amid & Hasan Genc from UC Berkeley, 2020 Spring, \"Hardware for Machine Learning\". Adpated by instructor Siting Liu from ShanghaiTech, 2022 Spirng, \"AI Computing Systems\".\n",
    "\n",
    "You are required to fill in the blanks with your code **independently** to complete the quantization process (weights, activations and biases quantization), so we can simulate and verify the quantized NN model on floating-point hardware (CPUs or GPGPUs). It provides us the confidence that the model can be run on a customized 8-bit hardware with limited loss of accuracy. **Throughout this experiment, we use symmetric quantization, which means the \"zero point\" should be 0. Please make sure your results are reproducible and do not change the structure of the CNN (1 point)**.\n",
    "\n",
    "Initial Setup\n",
    "------------------------\n",
    "\n",
    "Before beginning the assignment, we import the CIFAR dataset, and train a simple convolutional neural network (CNN) to classify it."
   ]
  },
  {
   "cell_type": "code",
   "execution_count": 1,
   "metadata": {
    "id": "hbiiMcdNJI--"
   },
   "outputs": [],
   "source": [
    "import torch\n",
    "import torchvision\n",
    "import torchvision.transforms as transforms\n",
    "import torch.nn as nn\n",
    "import torch.nn.functional as F\n",
    "import torch.optim as optim"
   ]
  },
  {
   "cell_type": "markdown",
   "metadata": {
    "id": "FG3WW1Owq1Fh"
   },
   "source": [
    "**Reminder:** set the runtime type to \"GPU\" if it is available. "
   ]
  },
  {
   "cell_type": "code",
   "execution_count": 2,
   "metadata": {
    "id": "A3RF5VmcoUMG"
   },
   "outputs": [],
   "source": [
    "if torch.cuda.is_available():\n",
    "    device = torch.device('cuda')\n",
    "else:\n",
    "    device = torch.device('cpu')"
   ]
  },
  {
   "cell_type": "markdown",
   "metadata": {
    "id": "nCaMDWYArEXO"
   },
   "source": [
    "Load training and test data from the CIFAR10 dataset."
   ]
  },
  {
   "cell_type": "code",
   "execution_count": 3,
   "metadata": {
    "id": "_5UuOjjrnogR"
   },
   "outputs": [
    {
     "name": "stdout",
     "output_type": "stream",
     "text": [
      "Files already downloaded and verified\n",
      "Files already downloaded and verified\n"
     ]
    }
   ],
   "source": [
    "transform = transforms.Compose(\n",
    "    [transforms.ToTensor(),\n",
    "     transforms.Normalize((0.5, 0.5, 0.5), (0.5, 0.5, 0.5))])\n",
    "\n",
    "trainset = torchvision.datasets.CIFAR10(root='./data', train=True,\n",
    "                                        download=True, transform=transform)\n",
    "trainloader = torch.utils.data.DataLoader(trainset, batch_size=4,\n",
    "                                          shuffle=True, num_workers=2)\n",
    "\n",
    "testset = torchvision.datasets.CIFAR10(root='./data', train=False,\n",
    "                                       download=True, transform=transform)\n",
    "testloader = torch.utils.data.DataLoader(testset, batch_size=4,\n",
    "                                         shuffle=False, num_workers=2)"
   ]
  },
  {
   "cell_type": "markdown",
   "metadata": {
    "id": "l62CkyIwtSOv"
   },
   "source": [
    "Define a simple CNN that classifies CIFAR images.\n",
    "The network provided is similar to LeNet-5, and it has the following architecture:\n",
    "\n",
    "**Layer** | **Type** | **Input Shape** | **Output Shape** | **Activation**\n",
    "--- | --- | --- | --- | ---\n",
    "conv1 | Convolutional | 3x32x32 | 12x28x28 | ReLU \n",
    "pool1 | Max pool | 12x28x28 | 12x14x14 | None                \n",
    "conv2 | Convolutional | 12x14x14 | 32x12x12 | ReLU                \n",
    "pool2 | Max pool | 32x12x12 | 32x6x6 | None                \n",
    "fc1 | Fully-connected | 1152 | 256 | ReLU                \n",
    "fc2 | Fully-connected | 256 | 64 | ReLU                \n",
    "fc3 | Fully-connected | 64 | 10 | None                \n",
    "\n",
    "None of the layers in the network have a bias associated with them.\n",
    "This makes them easier to quantize.\n",
    "Towards the end of this assignment, we will add biases to the final layer and quantize it as well."
   ]
  },
  {
   "cell_type": "code",
   "execution_count": 4,
   "metadata": {
    "id": "9fL3F-7Rntog"
   },
   "outputs": [],
   "source": [
    "class Net(nn.Module):\n",
    "    def __init__(self):\n",
    "        super(Net, self).__init__()\n",
    "        self.conv1 = nn.Conv2d(3, 12, 5, bias=False)\n",
    "        self.pool = nn.MaxPool2d(2, 2) # run after each conv (hence the 5x5 FC layer)\n",
    "        self.conv2 = nn.Conv2d(12, 32, 3, bias=False)\n",
    "        self.fc1 = nn.Linear(32 * 6 * 6, 256, bias=False)\n",
    "        self.fc2 = nn.Linear(256, 64, bias=False)\n",
    "        self.fc3 = nn.Linear(64, 10, bias=False)\n",
    "\n",
    "    def forward(self, x: torch.Tensor) -> torch.Tensor:\n",
    "        x = self.pool(F.relu(self.conv1(x)))\n",
    "        x = self.pool(F.relu(self.conv2(x)))\n",
    "        x = x.view(-1, 32 * 6 * 6)\n",
    "        x = F.relu(self.fc1(x))\n",
    "        x = F.relu(self.fc2(x))\n",
    "        x = self.fc3(x)\n",
    "        return x\n",
    "\n",
    "net = Net().to(device)"
   ]
  },
  {
   "cell_type": "markdown",
   "metadata": {
    "id": "Nijieuxptag6"
   },
   "source": [
    "Define the training and testing process."
   ]
  },
  {
   "cell_type": "code",
   "execution_count": 5,
   "metadata": {
    "id": "CzK6ohj5oNCT"
   },
   "outputs": [],
   "source": [
    "from torch.utils.data import DataLoader\n",
    "\n",
    "def train(model: nn.Module, dataloader: DataLoader):\n",
    "    criterion = nn.CrossEntropyLoss()\n",
    "    optimizer = optim.SGD(model.parameters(), lr=0.001, momentum=0.9)\n",
    "\n",
    "    for epoch in range(2):  # loop over the dataset multiple (2) times\n",
    "\n",
    "        running_loss = 0.0\n",
    "        for i, data in enumerate(dataloader, 0):\n",
    "            # get the inputs; data is a list of [inputs, labels]\n",
    "            inputs, labels = data\n",
    "\n",
    "            inputs = inputs.to(device)\n",
    "            labels = labels.to(device)\n",
    "\n",
    "            # zero the parameter gradients\n",
    "            optimizer.zero_grad()\n",
    "\n",
    "            # forward + backward + optimize\n",
    "            outputs = model(inputs)\n",
    "            loss = criterion(outputs, labels)\n",
    "            loss.backward()\n",
    "            optimizer.step()\n",
    "\n",
    "            # print statistics\n",
    "            running_loss += loss.item()\n",
    "            if i % 2000 == 1999:    # print every 2000 mini-batches\n",
    "                print('[%d, %5d] loss: %.3f' %\n",
    "                    (epoch + 1, i + 1, running_loss / 2000))\n",
    "                running_loss = 0.0\n",
    "\n",
    "    print('Finished Training')\n",
    "\n",
    "def test(model: nn.Module, dataloader: DataLoader, max_samples=None) -> float:\n",
    "    correct = 0\n",
    "    total = 0\n",
    "    n_inferences = 0\n",
    "\n",
    "    with torch.no_grad():\n",
    "        for data in dataloader:\n",
    "            images, labels = data\n",
    "\n",
    "            images = images.to(device)\n",
    "            labels = labels.to(device)\n",
    "\n",
    "            outputs = model(images) # get 1 batch worth of image predictions (i.e. 4 predictions of 10 each)\n",
    "            other, predicted = torch.max(outputs.data, 1) # other == values, predicted == indicies\n",
    "            total += labels.size(0)\n",
    "            correct += (predicted == labels).sum().item()\n",
    "\n",
    "            if max_samples:\n",
    "                n_inferences += images.shape[0]\n",
    "                if n_inferences > max_samples:\n",
    "                    break\n",
    "    \n",
    "    return 100 * correct / total"
   ]
  },
  {
   "cell_type": "markdown",
   "metadata": {},
   "source": [
    "Train this CNN on the training dataset (this may take a few moments)."
   ]
  },
  {
   "cell_type": "code",
   "execution_count": 6,
   "metadata": {
    "id": "HixhBHaqtmZU"
   },
   "outputs": [
    {
     "name": "stdout",
     "output_type": "stream",
     "text": [
      "[1,  2000] loss: 2.145\n",
      "[1,  4000] loss: 1.783\n",
      "[1,  6000] loss: 1.633\n",
      "[1,  8000] loss: 1.499\n",
      "[1, 10000] loss: 1.421\n",
      "[1, 12000] loss: 1.348\n",
      "[2,  2000] loss: 1.260\n",
      "[2,  4000] loss: 1.217\n",
      "[2,  6000] loss: 1.196\n",
      "[2,  8000] loss: 1.151\n",
      "[2, 10000] loss: 1.128\n",
      "[2, 12000] loss: 1.096\n",
      "Finished Training\n"
     ]
    }
   ],
   "source": [
    "train(net, trainloader)"
   ]
  },
  {
   "cell_type": "markdown",
   "metadata": {
    "id": "EJggxnCVuRxU"
   },
   "source": [
    "Now that the CNN has been trained, let's test it on our test dataset. The test accuracy should be above 57% after 2 epochs of training. **Report this accuracy (1 point).**"
   ]
  },
  {
   "cell_type": "code",
   "execution_count": 7,
   "metadata": {
    "id": "y27_n-djuEdz"
   },
   "outputs": [
    {
     "name": "stdout",
     "output_type": "stream",
     "text": [
      "Accuracy of the network on the test images: 60.88%\n"
     ]
    }
   ],
   "source": [
    "score = test(net, testloader)\n",
    "print('Accuracy of the network on the test images: {}%'.format(score))"
   ]
  },
  {
   "cell_type": "markdown",
   "metadata": {
    "id": "C-GbgOYpjamn"
   },
   "source": [
    "Define a convenience function which we use to copy CNN's for version control."
   ]
  },
  {
   "cell_type": "code",
   "execution_count": 8,
   "metadata": {
    "id": "ZVWbC5YWT-MU"
   },
   "outputs": [],
   "source": [
    "from copy import deepcopy\n",
    "\n",
    "def copy_model(model: nn.Module) -> nn.Module:\n",
    "    result = deepcopy(model)\n",
    "\n",
    "    # Copy over the extra metadata we've collected which copy.deepcopy doesn't capture\n",
    "    if hasattr(model, 'input_activations'):\n",
    "        result.input_activations = deepcopy(model.input_activations)\n",
    "\n",
    "    for result_layer, original_layer in zip(result.children(), model.children()):\n",
    "        if isinstance(result_layer, nn.Conv2d) or isinstance(result_layer, nn.Linear):\n",
    "            if hasattr(original_layer.weight, 'scale'):\n",
    "                result_layer.weight.scale = deepcopy(original_layer.weight.scale)\n",
    "            if hasattr(original_layer, 'activations'):\n",
    "                result_layer.activations = deepcopy(original_layer.activations)\n",
    "            if hasattr(original_layer, 'output_scale'):\n",
    "                result_layer.output_scale = deepcopy(original_layer.output_scale)\n",
    "\n",
    "    return result"
   ]
  },
  {
   "cell_type": "markdown",
   "metadata": {
    "id": "SQZoEjBSveV8"
   },
   "source": [
    "# Question 1: Visualize Weights"
   ]
  },
  {
   "cell_type": "markdown",
   "metadata": {
    "id": "Ap_PBg9Pjll_"
   },
   "source": [
    "## Question 1.1:\n",
    "\n",
    "Plot histograms of the weights of every convolutional and fully-connected layer. Record any observations you make about the distribution of the values and report."
   ]
  },
  {
   "cell_type": "code",
   "execution_count": 9,
   "metadata": {
    "id": "5qKRX7ply7I2"
   },
   "outputs": [],
   "source": [
    "import matplotlib.pyplot as plt\n",
    "import numpy as np"
   ]
  },
  {
   "cell_type": "markdown",
   "metadata": {},
   "source": [
    "**ADD YOUR CODE HERE to plot distributions of weights of the original NN model. Add them to the report (0.5 point)**"
   ]
  },
  {
   "cell_type": "code",
   "execution_count": 10,
   "metadata": {},
   "outputs": [
    {
     "data": {
      "image/png": "[encoded data removed]",
      "text/plain": [
       "<Figure size 640x480 with 1 Axes>"
      ]
     },
     "metadata": {},
     "output_type": "display_data"
    },
    {
     "data": {
      "image/png": "[encoded data removed]",
      "text/plain": [
       "<Figure size 640x480 with 1 Axes>"
      ]
     },
     "metadata": {},
     "output_type": "display_data"
    },
    {
     "data": {
      "image/png": "[encoded data removed]",
      "text/plain": [
       "<Figure size 640x480 with 1 Axes>"
      ]
     },
     "metadata": {},
     "output_type": "display_data"
    },
    {
     "data": {
      "image/png": "[encoded data removed]",
      "text/plain": [
       "<Figure size 640x480 with 1 Axes>"
      ]
     },
     "metadata": {},
     "output_type": "display_data"
    },
    {
     "data": {
      "image/png": "[encoded data removed]",
      "text/plain": [
       "<Figure size 640x480 with 1 Axes>"
      ]
     },
     "metadata": {},
     "output_type": "display_data"
    }
   ],
   "source": [
    "# ADD YOUR CODE HERE\n",
    "\n",
    "# You can get a flattened vector of the weights of fc1 like this:\n",
    "#   fc1_weights = net.fc1.weight.data.cpu().view(-1)\n",
    "# Try plotting a histogram of fc1_weights (and the weights of all the other layers as well)\n",
    "# You can use \"hist\" from the matplotlib.pyplot package.\n",
    "\n",
    "conv1_weights = net.conv1.weight.data.cpu().view(-1)\n",
    "conv2_weights = net.conv2.weight.data.cpu().view(-1)\n",
    "\n",
    "fc1_weights = net.fc1.weight.data.cpu().view(-1)\n",
    "fc2_weights = net.fc2.weight.data.cpu().view(-1)\n",
    "fc3_weights = net.fc3.weight.data.cpu().view(-1)\n",
    "\n",
    "plt.style.use('seaborn-darkgrid')\n",
    "plt.hist(conv1_weights, label='conv1', bins=50, color='lightskyblue')\n",
    "plt.xlabel('Distribution')\n",
    "plt.ylabel('Counts')\n",
    "plt.legend()\n",
    "plt.show()\n",
    "plt.hist(conv2_weights, label='conv2', bins=50)\n",
    "plt.xlabel('Distribution')\n",
    "plt.ylabel('Counts')\n",
    "plt.legend()\n",
    "plt.show()\n",
    "plt.hist(fc1_weights, label='fc1', bins=50, color='gold')\n",
    "plt.xlabel('Distribution')\n",
    "plt.ylabel('Counts')\n",
    "plt.legend()\n",
    "plt.show()\n",
    "plt.hist(fc2_weights, label='fc2', bins=50, color='plum')\n",
    "plt.xlabel('Distribution')\n",
    "plt.ylabel('Counts')\n",
    "plt.legend()\n",
    "plt.show()\n",
    "plt.hist(fc3_weights, label='fc3', bins=50, color='lightgreen')\n",
    "plt.xlabel('Distribution')\n",
    "plt.ylabel('Counts')\n",
    "plt.legend()\n",
    "plt.show()"
   ]
  },
  {
   "cell_type": "markdown",
   "metadata": {
    "id": "tmJEtoCgkLYn"
   },
   "source": [
    "## Question 1.2:\n",
    "\n",
    "Record the range of the weights, as well as their 3-sigma range (the difference between $\\mu + 3\\sigma$ and $\\mu - 3\\sigma$).\n",
    "For which layers is the 3-sigma range larger or smaller than the actual range?\n",
    "\n",
    "**ADD YOUR CODE HERE to record the 3-sigma and actual range of the weights in each layer. Report the results (0.5 point)**\n"
   ]
  },
  {
   "cell_type": "code",
   "execution_count": 11,
   "metadata": {},
   "outputs": [
    {
     "name": "stdout",
     "output_type": "stream",
     "text": [
      "-----------Conv1 Layer------------------\n",
      "Range of conv1:[ tensor(-0.6182) , tensor(0.5482) ]\n",
      "3-sigma range of conv1: [ tensor(-0.5282) , tensor(0.5327) ]\n",
      "-----------Conv2 Layer------------------\n",
      "Range of conv2:[ tensor(-0.3643) , tensor(0.4440) ]\n",
      "3-sigma range of conv2: [ tensor(-0.3343) , tensor(0.3052) ]\n",
      "-----------Fc1 Layer------------------\n",
      "Range of fc1:[ tensor(-0.1489) , tensor(0.1432) ]\n",
      "3-sigma range of fc1: [ tensor(-0.0728) , tensor(0.0701) ]\n",
      "-----------Fc2 Layer------------------\n",
      "Range of fc2:[ tensor(-0.2099) , tensor(0.2348) ]\n",
      "3-sigma range of fc2: [ tensor(-0.1491) , tensor(0.1513) ]\n",
      "-----------Fc3 Layer------------------\n",
      "Range of fc3:[ tensor(-0.5104) , tensor(0.5138) ]\n",
      "3-sigma range of fc3: [ tensor(-0.4914) , tensor(0.4905) ]\n"
     ]
    }
   ],
   "source": [
    "# Useful functions: torch.min/max/mean/std\n",
    "\n",
    "print('-----------Conv1 Layer------------------')\n",
    "conv1_w_min = torch.min(conv1_weights)\n",
    "conv1_w_max = torch.max(conv1_weights)\n",
    "conv1_w_mean = torch.mean(conv1_weights)\n",
    "conv1_w_std = torch.std(conv1_weights)\n",
    "conv1_w_sigma1 = conv1_w_mean - 3*conv1_w_std\n",
    "conv1_w_sigma2 = conv1_w_mean + 3*conv1_w_std\n",
    "print('Range of conv1:[', conv1_w_min, ',', conv1_w_max, ']')\n",
    "print('3-sigma range of conv1: [', conv1_w_sigma1, ',', conv1_w_sigma2, ']')\n",
    "print('-----------Conv2 Layer------------------')\n",
    "conv2_w_min = torch.min(conv2_weights)\n",
    "conv2_w_max = torch.max(conv2_weights)\n",
    "conv2_w_mean = torch.mean(conv2_weights)\n",
    "conv2_w_std = torch.std(conv2_weights)\n",
    "conv2_w_sigma1 = conv2_w_mean - 3*conv2_w_std\n",
    "conv2_w_sigma2 = conv2_w_mean + 3*conv2_w_std\n",
    "print('Range of conv2:[', conv2_w_min, ',', conv2_w_max, ']')\n",
    "print('3-sigma range of conv2: [', conv2_w_sigma1, ',', conv2_w_sigma2, ']')\n",
    "print('-----------Fc1 Layer------------------')\n",
    "fc1_w_min = torch.min(fc1_weights)\n",
    "fc1_w_max = torch.max(fc1_weights)\n",
    "fc1_w_mean = torch.mean(fc1_weights)\n",
    "fc1_w_std = torch.std(fc1_weights)\n",
    "fc1_w_sigma1 = fc1_w_mean - 3*fc1_w_std\n",
    "fc1_w_sigma2 = fc1_w_mean + 3*fc1_w_std\n",
    "print('Range of fc1:[', fc1_w_min, ',', fc1_w_max, ']')\n",
    "print('3-sigma range of fc1: [', fc1_w_sigma1, ',', fc1_w_sigma2, ']')\n",
    "print('-----------Fc2 Layer------------------')\n",
    "fc2_w_min = torch.min(fc2_weights)\n",
    "fc2_w_max = torch.max(fc2_weights)\n",
    "fc2_w_mean = torch.mean(fc2_weights)\n",
    "fc2_w_std = torch.std(fc2_weights)\n",
    "fc2_w_sigma1 = fc2_w_mean - 3*fc2_w_std\n",
    "fc2_w_sigma2 = fc2_w_mean + 3*fc2_w_std\n",
    "print('Range of fc2:[', fc2_w_min, ',', fc2_w_max, ']')\n",
    "print('3-sigma range of fc2: [', fc2_w_sigma1, ',', fc2_w_sigma2, ']')\n",
    "print('-----------Fc3 Layer------------------')\n",
    "fc3_w_min = torch.min(fc3_weights)\n",
    "fc3_w_max = torch.max(fc3_weights)\n",
    "fc3_w_mean = torch.mean(fc3_weights)\n",
    "fc3_w_std = torch.std(fc3_weights)\n",
    "fc3_w_sigma1 = fc3_w_mean - 3*fc3_w_std\n",
    "fc3_w_sigma2 = fc3_w_mean + 3*fc3_w_std\n",
    "print('Range of fc3:[', fc3_w_min, ',', fc3_w_max, ']')\n",
    "print('3-sigma range of fc3: [', fc3_w_sigma1, ',', fc3_w_sigma2, ']')"
   ]
  },
  {
   "cell_type": "markdown",
   "metadata": {},
   "source": [
    "### A:\n",
    "\n",
    "From the results above, we can find the 3-sigma range of **con2, fc1, fc2, fc3** are smaller than the actual range, 3-sigma range of **conv1** is larger than the actual range.\n",
    "\n",
    "For quantilization, I will choose **conv1** as it has a larger 3-sigma range."
   ]
  },
  {
   "cell_type": "markdown",
   "metadata": {
    "id": "2hKjshaHD11m"
   },
   "source": [
    "# Question 2: Quantize Weights"
   ]
  },
  {
   "cell_type": "markdown",
   "metadata": {
    "id": "ueJLirORlFbQ"
   },
   "source": [
    "Any convolution or fully-connected layer pass, without a bias, can be described by the equation:\n",
    "\n",
    "$$W*In = Out$$\n",
    "\n",
    "where $W$ is the weight tensor, $In$ in the input tensor, and $Out$ is the output tensor.\n",
    "\n",
    "For this question, your task is to find a *scaling factor*, called $n_W$ for each convolutional and fully connected layer,\n",
    "which would fit inside an 8-bit signed integer.\n",
    "This equation can now be described as the following:\n",
    "\n",
    "$$n_WW*In = n_WOut$$\n",
    "\n",
    "You might wonder: \"Isn't it a problem that the output of the layer has now changed? Wouldn't quantizing the weights change the output of the neural net?\"\n",
    "\n",
    "The answer, of course, is: \"Yes\".\n",
    "However, what we care about is not the *absolute* values output by the CNN, but the relative difference between the probabilities it assigns to different classes for its predictions.\n",
    "Quantizing the weights only scales this relative difference up or down, but it does not affect which class the network assigns the most probability to.\n",
    "Therefore, it does not affect the final predictions that the neural net makes."
   ]
  },
  {
   "cell_type": "markdown",
   "metadata": {
    "id": "2WVKWshdmuvm"
   },
   "source": [
    "Copy the original model into a new model."
   ]
  },
  {
   "cell_type": "code",
   "execution_count": 12,
   "metadata": {
    "id": "qXNk1fXuPGjB"
   },
   "outputs": [],
   "source": [
    "net_q2 = copy_model(net)"
   ]
  },
  {
   "cell_type": "markdown",
   "metadata": {
    "id": "O_L9Yv0Wm7Zo"
   },
   "source": [
    "## Question 2.1:\n",
    "\n",
    "**Fill in the `quantized_weights` function.**\n",
    "The template code we provide will then call this function on the weights of every layer in the CNN that we just trained at 32-bit floating point precision, to lower them into 8-bit signed integer (2'complement, -128~127) precision."
   ]
  },
  {
   "cell_type": "code",
   "execution_count": 13,
   "metadata": {},
   "outputs": [],
   "source": [
    "from typing import Tuple\n",
    "\n",
    "def quantized_weights(weights: torch.Tensor) -> Tuple[torch.Tensor, float]:\n",
    "    '''\n",
    "    Quantize the weights so that all values are integers between -128 and 127.\n",
    "    You may want to use the total range, 3-sigma range, or other ranges when\n",
    "    deciding just what factors to scale the float32 values by.\n",
    "\n",
    "    Parameters:\n",
    "    weights (Tensor): The unquantized weights\n",
    "\n",
    "    Returns:\n",
    "    (Tensor, float): A tuple with the following elements:\n",
    "                        * The weights in quantized form, where every value is an integer between -128 and 127.\n",
    "                          The \"dtype\" will still be \"float\", but the values themselves should all be integers.\n",
    "                        * The scaling factor that your weights were multiplied by.\n",
    "                          This value does not need to be an 8-bit integer.\n",
    "    '''\n",
    "\n",
    "    ''' \n",
    "    ADD YOUR CODE HERE to compute and change 'scale'. \n",
    "    We consider only symmetric quantization, which means zeros point is exactly 0.\n",
    "    After that, return the 'scale' together with the quantized number, 'result'， in [-128,127].\n",
    "    '''\n",
    "\n",
    "    abs_in = torch.abs(weights)\n",
    "    f_max = torch.max(abs_in)\n",
    "    scale = 127 / f_max\n",
    "    result =(weights*scale).round()\n",
    "    #print(scale)\n",
    "    \n",
    "    return torch.clamp(result, min=-128, max=127), scale"
   ]
  },
  {
   "cell_type": "code",
   "execution_count": 14,
   "metadata": {
    "id": "orOwTnXxU1nb"
   },
   "outputs": [],
   "source": [
    "def quantize_layer_weights(model: nn.Module):\n",
    "    # Quantize the weights layer by layer and record the scale factors and quantized weights\n",
    "    for layer in model.children():\n",
    "        if isinstance(layer, nn.Conv2d) or isinstance(layer, nn.Linear):\n",
    "            # Quantize the weights using the function you just developed\n",
    "            q_layer_data, scale = quantized_weights(layer.weight.data)\n",
    "            q_layer_data = q_layer_data.to(device)\n",
    "\n",
    "            layer.weight.data = q_layer_data\n",
    "            layer.weight.scale = scale\n",
    "            \n",
    "            # Check if the weights are quantized properly, your code should be okay if no exception is raised.\n",
    "            # Otherwise, please check your code.\n",
    "            if (q_layer_data < -128).any() or (q_layer_data > 127).any():\n",
    "                raise Exception(\"Quantized weights of {} layer include values out of bounds for an 8-bit signed integer\".format(layer.__class__.__name__))\n",
    "            if (q_layer_data != q_layer_data.round()).any():\n",
    "                raise Exception(\"Quantized weights of {} layer include non-integer values\".format(layer.__class__.__name__))\n",
    "\n",
    "quantize_layer_weights(net_q2)"
   ]
  },
  {
   "cell_type": "markdown",
   "metadata": {
    "id": "Ah_IkrjhnXAM"
   },
   "source": [
    "## Question 2.2:\n",
    "\n",
    "**Record the accuracy change of the network after quantizing its weights and report. (1 point)**\n",
    "If you’ve done everything correctly, the accuracy change should be negligible."
   ]
  },
  {
   "cell_type": "code",
   "execution_count": 15,
   "metadata": {
    "id": "wE3HqeBKVoYR"
   },
   "outputs": [
    {
     "name": "stdout",
     "output_type": "stream",
     "text": [
      "Accuracy of the network after quantizing all weights: 60.9%\n"
     ]
    }
   ],
   "source": [
    "score = test(net_q2, testloader)\n",
    "print('Accuracy of the network after quantizing all weights: {}%'.format(score))"
   ]
  },
  {
   "cell_type": "markdown",
   "metadata": {
    "id": "xg7bfTF1bBVe"
   },
   "source": [
    "# Question 3: Visualize Activations"
   ]
  },
  {
   "cell_type": "markdown",
   "metadata": {
    "id": "ODLMJ6DznjFa"
   },
   "source": [
    "Now that we have quantized the weights of the CNN, we must also quantize the activations (inputs and outputs to layers) traveling through it.\n",
    "But before doing so, let's analyze what values the activations take when travelling through the network.\n",
    "\n",
    "We provide convenience code which will record the values of every pixel of the outputs and inputs travelling through the neural network.\n",
    "(This is the initial CNN, where not even the weights had yet been quantized).\n",
    "We then profile these values when running on a subset of the training set (calibration data)."
   ]
  },
  {
   "cell_type": "code",
   "execution_count": 16,
   "metadata": {
    "id": "HP587b0QYxe9"
   },
   "outputs": [],
   "source": [
    "def register_activation_profiling_hooks(model: Net):\n",
    "    # initialize the activations with empty ndarray\n",
    "    model.input_activations = np.empty(0)\n",
    "    model.conv1.activations = np.empty(0)\n",
    "    model.conv2.activations = np.empty(0)\n",
    "    model.fc1.activations = np.empty(0)\n",
    "    model.fc2.activations = np.empty(0)\n",
    "    model.fc3.activations = np.empty(0)\n",
    "\n",
    "    model.profile_activations = True\n",
    "\n",
    "    def conv1_activations_hook(layer, x, y):\n",
    "        if model.profile_activations:\n",
    "            model.input_activations = np.append(model.input_activations, x[0].cpu().view(-1))\n",
    "    model.conv1.register_forward_hook(conv1_activations_hook)\n",
    "    # function register_forward_hook is used to obtain the activations, which would otherwise be abandoned as\n",
    "    # intermediate variables. For more details, please refer to \n",
    "    # https://pytorch.org/docs/stable/notes/modules.html#module-initialization\n",
    "    # Module Hooks\n",
    "\n",
    "    def conv2_activations_hook(layer, x, y):\n",
    "        if model.profile_activations:\n",
    "            model.conv1.activations = np.append(model.conv1.activations, x[0].cpu().view(-1))\n",
    "    model.conv2.register_forward_hook(conv2_activations_hook)\n",
    "\n",
    "    def fc1_activations_hook(layer, x, y):\n",
    "        if model.profile_activations:\n",
    "            model.conv2.activations = np.append(model.conv2.activations, x[0].cpu().view(-1))\n",
    "    model.fc1.register_forward_hook(fc1_activations_hook)\n",
    "\n",
    "    def fc2_activations_hook(layer, x, y):\n",
    "        if model.profile_activations:\n",
    "            model.fc1.activations = np.append(model.fc1.activations, x[0].cpu().view(-1))\n",
    "    model.fc2.register_forward_hook(fc2_activations_hook)\n",
    "\n",
    "    def fc3_activations_hook(layer, x, y):\n",
    "        if model.profile_activations:\n",
    "            model.fc2.activations = np.append(model.fc2.activations, x[0].cpu().view(-1))\n",
    "            model.fc3.activations = np.append(model.fc3.activations, y[0].cpu().view(-1))\n",
    "    model.fc3.register_forward_hook(fc3_activations_hook)\n"
   ]
  },
  {
   "cell_type": "markdown",
   "metadata": {
    "id": "mnpV3LUZnxtv"
   },
   "source": [
    "Use the unquantized model to profile input and output activations on a subset of the training dataset."
   ]
  },
  {
   "cell_type": "code",
   "execution_count": 17,
   "metadata": {
    "id": "PVvPCIoabLC7"
   },
   "outputs": [],
   "source": [
    "net_q3 = copy_model(net)\n",
    "# activate the hook record activations\n",
    "register_activation_profiling_hooks(net_q3)\n",
    "\n",
    "# Run through the training dataset again while profiling the input and output activations this time\n",
    "# We don't actually have to perform gradient descent for this, so we can use the \"test\" function\n",
    "test(net_q3, trainloader, max_samples=400)\n",
    "net_q3.profile_activations = False"
   ]
  },
  {
   "cell_type": "code",
   "execution_count": 18,
   "metadata": {
    "id": "m1HnYsuAMoxP"
   },
   "outputs": [],
   "source": [
    "# Fetch the activations\n",
    "input_activations = net_q3.input_activations\n",
    "conv1_output_activations = net_q3.conv1.activations\n",
    "conv2_output_activations = net_q3.conv2.activations\n",
    "fc1_output_activations = net_q3.fc1.activations\n",
    "fc2_output_activations = net_q3.fc2.activations\n",
    "fc3_output_activations = net_q3.fc3.activations"
   ]
  },
  {
   "cell_type": "markdown",
   "metadata": {
    "id": "cDP__SFRoAdh"
   },
   "source": [
    "## Question 3.1:\n",
    "\n",
    "**Plot histograms of the input images and the outputs of every convolutional and fully-connected layer. \n",
    "Record any observations you make about the distribution of the values. (0.5 point)** Remember that you are plotting the activations *after* activation functions like ReLU have been applied, which means that you should not be worried if you find that your plots are asymmetric."
   ]
  },
  {
   "cell_type": "code",
   "execution_count": 19,
   "metadata": {
    "id": "AEo8VK46bwjn"
   },
   "outputs": [
    {
     "data": {
      "image/png": "[encoded data removed]",
      "text/plain": [
       "<Figure size 640x480 with 1 Axes>"
      ]
     },
     "metadata": {},
     "output_type": "display_data"
    },
    {
     "data": {
      "image/png": "[encoded data removed]",
      "text/plain": [
       "<Figure size 640x480 with 1 Axes>"
      ]
     },
     "metadata": {},
     "output_type": "display_data"
    },
    {
     "data": {
      "image/png": "[encoded data removed]",
      "text/plain": [
       "<Figure size 640x480 with 1 Axes>"
      ]
     },
     "metadata": {},
     "output_type": "display_data"
    },
    {
     "data": {
      "image/png": "[encoded data removed]",
      "text/plain": [
       "<Figure size 640x480 with 1 Axes>"
      ]
     },
     "metadata": {},
     "output_type": "display_data"
    },
    {
     "data": {
      "image/png": "[encoded data removed]",
      "text/plain": [
       "<Figure size 640x480 with 1 Axes>"
      ]
     },
     "metadata": {},
     "output_type": "display_data"
    },
    {
     "data": {
      "image/png": "[encoded data removed]",
      "text/plain": [
       "<Figure size 640x480 with 1 Axes>"
      ]
     },
     "metadata": {},
     "output_type": "display_data"
    }
   ],
   "source": [
    "# ADD YOUR CODE HERE to plot distributions of activations\n",
    "\n",
    "# Plot histograms of the following variables:\n",
    "#   input_activations\n",
    "#   conv1_output_activations\n",
    "#   conv2_output_activations\n",
    "#   fc1_output_activations\n",
    "#   fc2_output_activations\n",
    "#   fc3_output_activation\n",
    "\n",
    "plt.style.use('seaborn-darkgrid')\n",
    "\n",
    "plt.hist(input_activations, label='input', bins=50, color='grey')\n",
    "plt.xlabel('Distribution')\n",
    "plt.ylabel('Counts')\n",
    "plt.legend()\n",
    "plt.show()\n",
    "plt.hist(conv1_output_activations, label='conv1', bins=50, color='lightskyblue')\n",
    "plt.xlabel('Distribution')\n",
    "plt.ylabel('Counts')\n",
    "plt.legend()\n",
    "plt.show()\n",
    "plt.hist(conv2_output_activations, label='conv2', bins=50)\n",
    "plt.xlabel('Distribution')\n",
    "plt.ylabel('Counts')\n",
    "plt.legend()\n",
    "plt.show()\n",
    "plt.hist(fc1_output_activations, label='fc1', bins=50, color='gold')\n",
    "plt.xlabel('Distribution')\n",
    "plt.ylabel('Counts')\n",
    "plt.legend()\n",
    "plt.show()\n",
    "plt.hist(fc2_output_activations, label='fc2', bins=50, color='plum')\n",
    "plt.xlabel('Distribution')\n",
    "plt.ylabel('Counts')\n",
    "plt.legend()\n",
    "plt.show()\n",
    "plt.hist(fc3_output_activations, label='fc3', bins=50, color='lightgreen')\n",
    "plt.xlabel('Distribution')\n",
    "plt.ylabel('Counts')\n",
    "plt.legend()\n",
    "plt.show()"
   ]
  },
  {
   "cell_type": "markdown",
   "metadata": {
    "id": "QDdjK8teoWXS"
   },
   "source": [
    "## Question 3.2:\n",
    "\n",
    "Additionally, **report the range of the values, as well as their 3-sigma range (the difference between $\\mu + 3\\sigma$ and $\\mu - 3\\sigma$) (0.5 point)**.\n",
    "For which layers is the 3-sigma range larger or smaller than the actual range?"
   ]
  },
  {
   "cell_type": "code",
   "execution_count": 20,
   "metadata": {
    "id": "e-7K7zjKoVVO"
   },
   "outputs": [
    {
     "name": "stdout",
     "output_type": "stream",
     "text": [
      "-----------Input Layer------------------\n",
      "Range of input:[ -1.0 , 1.0 ]\n",
      "3-sigma range of input: [ -1.5247382774508076 , 1.430113747019963 ]\n",
      "-----------Conv1 Layer------------------\n",
      "Range of conv1:[ 0.0 , 6.795027732849121 ]\n",
      "3-sigma range of conv1: [ -1.545606652766442 , 2.4861031223104018 ]\n",
      "-----------Conv2 Layer------------------\n",
      "Range of conv2:[ 0.0 , 11.123934745788574 ]\n",
      "3-sigma range of conv2: [ -1.7025899661791586 , 2.4097507332214576 ]\n",
      "-----------Fc1 Layer------------------\n",
      "Range of fc1:[ 0.0 , 11.145042419433594 ]\n",
      "3-sigma range of fc1: [ -1.5848371084738495 , 2.1411086499930922 ]\n",
      "-----------Fc2 Layer------------------\n",
      "Range of fc2:[ 0.0 , 7.7190375328063965 ]\n",
      "3-sigma range of fc2: [ -1.9397187614118885 , 2.8914816223554594 ]\n",
      "-----------Fc3 Layer------------------\n",
      "Range of fc3:[ -8.853764533996582 , 13.063966751098633 ]\n",
      "3-sigma range of fc3: [ -8.289666489254017 , 8.252148309951473 ]\n"
     ]
    }
   ],
   "source": [
    "# ADD YOUR CODE HERE to record the range and 3-sigma range of the activations\n",
    "\n",
    "print('-----------Input Layer------------------')\n",
    "input_min = min(input_activations.data)\n",
    "input_max = max(input_activations.data)\n",
    "input_mean = np.mean(input_activations.data)\n",
    "input_std = np.std(input_activations.data)\n",
    "input_sigma1 = input_mean - 3*input_std\n",
    "input_sigma2 = input_mean + 3*input_std\n",
    "print('Range of input:[', input_min, ',', input_max, ']')\n",
    "print('3-sigma range of input: [', input_sigma1, ',', input_sigma2, ']')\n",
    "print('-----------Conv1 Layer------------------')\n",
    "conv1_act_min = min(conv1_output_activations)\n",
    "conv1_act_max = max(conv1_output_activations)\n",
    "conv1_act_mean = np.mean(conv1_output_activations)\n",
    "conv1_act_std = np.std(conv1_output_activations)\n",
    "conv1_act_sigma1 = conv1_act_mean - 3*conv1_act_std\n",
    "conv1_act_sigma2 = conv1_act_mean + 3*conv1_act_std\n",
    "print('Range of conv1:[', conv1_act_min, ',', conv1_act_max, ']')\n",
    "print('3-sigma range of conv1: [', conv1_act_sigma1, ',', conv1_act_sigma2, ']')\n",
    "print('-----------Conv2 Layer------------------')\n",
    "conv2_act_min = min(conv2_output_activations)\n",
    "conv2_act_max = max(conv2_output_activations)\n",
    "conv2_act_mean = np.mean(conv2_output_activations)\n",
    "conv2_act_std = np.std(conv2_output_activations)\n",
    "conv2_act_sigma1 = conv2_act_mean - 3*conv2_act_std\n",
    "conv2_act_sigma2 = conv2_act_mean + 3*conv2_act_std\n",
    "print('Range of conv2:[', conv2_act_min, ',', conv2_act_max, ']')\n",
    "print('3-sigma range of conv2: [', conv2_act_sigma1, ',', conv2_act_sigma2, ']')\n",
    "print('-----------Fc1 Layer------------------')\n",
    "fc1_act_min = min(fc1_output_activations)\n",
    "fc1_act_max = max(fc1_output_activations)\n",
    "fc1_act_mean = np.mean(fc1_output_activations)\n",
    "fc1_act_std = np.std(fc1_output_activations)\n",
    "fc1_act_sigma1 = fc1_act_mean - 3*fc1_act_std\n",
    "fc1_act_sigma2 = fc1_act_mean + 3*fc1_act_std\n",
    "print('Range of fc1:[', fc1_act_min, ',', fc1_act_max, ']')\n",
    "print('3-sigma range of fc1: [', fc1_act_sigma1, ',', fc1_act_sigma2, ']')\n",
    "print('-----------Fc2 Layer------------------')\n",
    "fc2_act_min = min(fc2_output_activations)\n",
    "fc2_act_max = max(fc2_output_activations)\n",
    "fc2_act_mean = np.mean(fc2_output_activations)\n",
    "fc2_act_std = np.std(fc2_output_activations)\n",
    "fc2_act_sigma1 = fc2_act_mean - 3*fc2_act_std\n",
    "fc2_act_sigma2 = fc2_act_mean + 3*fc2_act_std\n",
    "print('Range of fc2:[', fc2_act_min, ',', fc2_act_max, ']')\n",
    "print('3-sigma range of fc2: [', fc2_act_sigma1, ',', fc2_act_sigma2, ']')\n",
    "print('-----------Fc3 Layer------------------')\n",
    "fc3_act_min = min(fc3_output_activations)\n",
    "fc3_act_max = max(fc3_output_activations)\n",
    "fc3_act_mean = np.mean(fc3_output_activations)\n",
    "fc3_act_std = np.std(fc3_output_activations)\n",
    "fc3_act_sigma1 = fc3_act_mean - 3*fc3_act_std\n",
    "fc3_act_sigma2 = fc3_act_mean + 3*fc3_act_std\n",
    "print('Range of fc3:[', fc3_act_min, ',', fc3_act_max, ']')\n",
    "print('3-sigma range of fc3: [', fc3_act_sigma1, ',', fc3_act_sigma2, ']')"
   ]
  },
  {
   "cell_type": "markdown",
   "metadata": {},
   "source": [
    "### A:\n",
    "\n",
    "From the results above, we can find the 3-sigma range of **conv1, con2, fc1, fc2, fc3** are smaller than the actual range, 3-sigma range of **input** is larger than the actual range.\n",
    "\n",
    "For quantilization, I will choose **input** as it has a larger 3-sigma range."
   ]
  },
  {
   "cell_type": "markdown",
   "metadata": {
    "id": "haiPVx4ibEra"
   },
   "source": [
    "# Question 4: Quantize Activations"
   ]
  },
  {
   "cell_type": "markdown",
   "metadata": {
    "id": "YCNDSAltowM8"
   },
   "source": [
    "Now it is time to quantize the activations (inputs and outputs to layers) traveling through the CNN.\n",
    "Our equation now becomes:\n",
    "\n",
    "$$n_WW*n_{In}In*n_{Out} = n_Wn_{In}n_{Out}Out$$\n",
    "\n",
    "where $n_{In}$ is the scaling factor which was applied to the input to the layer, and $n_{Out}$ is the scaling factor which we decide to apply to the output of the layer.\n",
    "$n_{Out}$ must be chosen such that the expected values of the elements of $Out$ can be scaled down to fit within 8 bits."
   ]
  },
  {
   "cell_type": "markdown",
   "metadata": {
    "id": "vE95vE5opICC"
   },
   "source": [
    "## Question 4.1:\n",
    "\n",
    "Before performing any quantization at all, we could describe the output of the `conv1` layer as:\n",
    "\n",
    "$$W_{conv1} * In = Out_{conv1}$$\n",
    "\n",
    "Suppose that we quantized the input matrix, $In$, scaling it by $n_{In}$.\n",
    "Suppose that we also scaled the weight matrix, $W_{conv1}$, by $n_{W_{conv1}}$, and the output matrix, $Out_{conv1}$, by $n_{Out_{conv1}}$.\n",
    "\n",
    "**In the lab report answer the following sub-questions for 4.1 (1 point).**:\n",
    "\n",
    "**(a)** Write an equation describing the output of the `conv1` layer with these new scaling parameters.\n",
    "\n",
    "**(b)** Write an equation describing the output of the `conv2` layer in terms of $In$, $W_{conv1}$, $W_{conv2}$, $Out_{conv1}$, $Out_{conv2}$, $n_{In}$, $n_{W_{conv1}}$, $n_{W_{conv2}}$, $n_{Out_{conv1}}$, and $n_{Out_{conv2}}$.\n",
    "You can pretend that the pooling layers do not exist."
   ]
  },
  {
   "cell_type": "markdown",
   "metadata": {},
   "source": [
    "### A:\n",
    "**(a):** \n",
    "$$n_{W_{conv1}}W_{conv1}*n_{In}In*n_{Out_{conv1}} = n_{W_{conv1}}n_{In}n_{Out_{conv1}}Out$$\n",
    "\n",
    "**(b):** \n",
    "$$\\frac{n_{W_{conv2}}W_{conv2}}{n_{W_{conv1}}W_{conv1}}*n_{In}In*\\frac{n_{Out_{conv2}}}{n_{Out_{conv1}}} = n_{W_{conv2}}\\frac{n_{In}}{n_{W_{conv1}}n_{Out_{conv1}}}n_{Out_{conv2}}Out$$"
   ]
  },
  {
   "cell_type": "markdown",
   "metadata": {
    "id": "vVTwOGR3p8Qu"
   },
   "source": [
    "## Question 4.2:\n",
    "\n",
    "**Complete the `quantize_initial_input` and `quantize_activations` functions which calculate the scaling factors for the initial image which is input to the CNN, and the outputs of each layer, respectively.** Again you can use 3-sigma range or min-max range.\n",
    "\n",
    "## Question 4.3:\n",
    "\n",
    "**Complete the `forward` function for the `NetQuantized` class.\n",
    "You will have to add code here to scale the outputs of each layer, and then to clamp the outputs of each layer to integers between -128 and 127 afterwards.**\n",
    "\n",
    "**Be careful with the data type (ndarray/tensor/scalar/tuple/float) specified and required by each function.**"
   ]
  },
  {
   "cell_type": "code",
   "execution_count": 21,
   "metadata": {
    "id": "zLjSp7hsXofq"
   },
   "outputs": [],
   "source": [
    "from typing import List\n",
    "\n",
    "class NetQuantized(nn.Module):\n",
    "    def __init__(self, net_with_weights_quantized: nn.Module):\n",
    "        super(NetQuantized, self).__init__()\n",
    "        \n",
    "        net_init = copy_model(net_with_weights_quantized)\n",
    "\n",
    "        self.conv1 = net_init.conv1\n",
    "        self.pool = net_init.pool\n",
    "        self.conv2 = net_init.conv2\n",
    "        self.fc1 = net_init.fc1\n",
    "        self.fc2 = net_init.fc2\n",
    "        self.fc3 = net_init.fc3\n",
    "\n",
    "        for layer in self.conv1, self.conv2, self.fc1, self.fc2, self.fc3:\n",
    "            def pre_hook(l, x):\n",
    "                x = x[0]\n",
    "                if (x < -128).any() or (x > 127).any():\n",
    "                    raise Exception(\"Input to {} layer is out of bounds for an 8-bit signed integer\".format(l.__class__.__name__))\n",
    "                if (x != x.round()).any():\n",
    "                    raise Exception(\"Input to {} layer has non-integer values\".format(l.__class__.__name__))\n",
    "\n",
    "            layer.register_forward_pre_hook(pre_hook)\n",
    "\n",
    "        # Calculate the scaling factor for the initial input to the CNN\n",
    "        self.input_activations = net_with_weights_quantized.input_activations\n",
    "        self.input_scale = NetQuantized.quantize_initial_input(self.input_activations)\n",
    "\n",
    "        # Calculate the output scaling factors for all the layers of the CNN\n",
    "        preceding_layer_scales = []\n",
    "        for layer in self.conv1, self.conv2, self.fc1, self.fc2, self.fc3:\n",
    "            layer.output_scale = NetQuantized.quantize_activations(layer.activations, layer.weight.scale, self.input_scale, preceding_layer_scales)\n",
    "            preceding_layer_scales.append((layer.weight.scale, layer.output_scale))\n",
    "\n",
    "    @staticmethod\n",
    "    def quantize_initial_input(pixels: np.ndarray) -> float:\n",
    "        '''\n",
    "        Calculate a scaling factor for the images that are input to the first layer of the CNN.\n",
    "        Remember to use symmetric scaling (zero-point = 0)\n",
    "        Parameters:\n",
    "        pixels (ndarray): The values of all the pixels which were part of the input image during training\n",
    "\n",
    "        Returns:\n",
    "        float: A scaling factor that the input should be multiplied by before being fed into the first layer.\n",
    "               This value does not need to be an 8-bit integer.\n",
    "        '''\n",
    "\n",
    "        # ADD YOUR CODE HERE\n",
    "        abs_in = np.abs(pixels)\n",
    "        p_max = np.max(abs_in)\n",
    "        scale = 127 / p_max\n",
    "\n",
    "        return scale \n",
    "\n",
    "    @staticmethod\n",
    "    def quantize_activations(activations: np.ndarray, n_w: float, n_initial_input: float, ns: List[Tuple[float, float]]) -> float:\n",
    "        '''\n",
    "        Calculate a scaling factor to multiply the output of a layer by.\n",
    "        Remember to use symmetric scaling (zero-point = 0)\n",
    "        Parameters:\n",
    "        activations (ndarray): The values of all the pixels which have been output by this layer during training\n",
    "        n_w (float): The scale by which the weights of this layer were multiplied as part of the \"quantize_weights\" function you wrote earlier\n",
    "        n_initial_input (float): The scale by which the initial input to the neural network was multiplied\n",
    "        ns ([(float, float)]): A list of tuples, where each tuple represents the \"weight scale\" and \"output scale\" (in that order) for every preceding layer\n",
    "\n",
    "        Returns:\n",
    "        float: A scaling factor that the layer output should be multiplied by before being fed into the first layer.\n",
    "               This value does not need to be an 8-bit integer.\n",
    "        '''\n",
    "\n",
    "        # ADD YOUR CODE HERE\n",
    "        abs_in = np.abs(activations)\n",
    "        a_max = np.max(abs_in)\n",
    "        tmp = 127/a_max\n",
    "\n",
    "        if (ns == []):\n",
    "            scale = tmp/n_initial_input/n_w\n",
    "        else:\n",
    "            scale = tmp/n_initial_input/n_w\n",
    "\n",
    "            for i in range(0, len(ns)) :\n",
    "                scale = scale/ns[i][1]/ns[i][0]\n",
    "\n",
    "        return scale\n",
    "\n",
    "    def forward(self, x: torch.Tensor) -> torch.Tensor:\n",
    "        # You can access the output activation scales like this:\n",
    "        #   fc1_output_scale = self.fc1.output_scale\n",
    "\n",
    "        # To make sure that the outputs of each layer are integers between -128 and 127, you may need to use the following functions:\n",
    "        #   * torch.round\n",
    "        #   * torch.clamp\n",
    "\n",
    "        # ADD YOUR CODE HERE \n",
    "        x = torch.clamp((x*self.input_scale).round(), min=-128, max=127)\n",
    "        x = torch.clamp(self.pool(F.relu(self.conv1(x)*self.conv1.output_scale)).round(), min=-128, max=127)\n",
    "        x = torch.clamp(self.pool(F.relu(self.conv2(x)*self.conv2.output_scale)).round(), min=-128, max=127)\n",
    "        x = x.view(-1, 32*6*6)\n",
    "        x = torch.clamp((F.relu(self.fc1(x)*self.fc1.output_scale)).round(), min=-128, max=127)\n",
    "        x = torch.clamp((F.relu(self.fc2(x)*self.fc2.output_scale)).round(), min=-128, max=127)\n",
    "        x = torch.clamp((self.fc3(x)*self.fc3.output_scale).round(), min=-128, max=127)\n",
    "        \n",
    "        return x"
   ]
  },
  {
   "cell_type": "code",
   "execution_count": 22,
   "metadata": {
    "id": "13CpHgvE994J"
   },
   "outputs": [],
   "source": [
    "# Merge the information from net_q2 and net_q3 together\n",
    "net_init = copy_model(net_q2)\n",
    "net_init.input_activations = deepcopy(net_q3.input_activations)\n",
    "for layer_init, layer_q3 in zip(net_init.children(), net_q3.children()):\n",
    "    if isinstance(layer_init, nn.Conv2d) or isinstance(layer_init, nn.Linear):\n",
    "        layer_init.activations = deepcopy(layer_q3.activations)\n",
    "\n",
    "net_quantized = NetQuantized(net_init)"
   ]
  },
  {
   "cell_type": "markdown",
   "metadata": {
    "id": "HrMRIDDhqiWl"
   },
   "source": [
    "## Question 4.4:\n",
    "\n",
    "Finally, record the accuracy of your network after both weights and activations have been quantized.\n",
    "If you've done everything right, you should still find little accuracy change. **Report the accuracy. (1 point)**"
   ]
  },
  {
   "cell_type": "code",
   "execution_count": 23,
   "metadata": {
    "id": "VcBXEodN6hrY"
   },
   "outputs": [
    {
     "name": "stdout",
     "output_type": "stream",
     "text": [
      "Accuracy of the network after quantizing both weights and activations: 60.92%\n"
     ]
    }
   ],
   "source": [
    "score = test(net_quantized, testloader)\n",
    "print('Accuracy of the network after quantizing both weights and activations: {}%'.format(score))"
   ]
  },
  {
   "cell_type": "markdown",
   "metadata": {},
   "source": [
    "**(Bonus)** You may notice that we did not fully utilize the representation range of a signed 8-bit number ([-128, 127]) for the quantized activation, which may lead to relatively large quantization error. Propose at least two methods that can better make use of an 8-bit number and reduce the quantization error. Explain your method in the report.    "
   ]
  },
  {
   "cell_type": "markdown",
   "metadata": {
    "id": "1jTOL7scbMs7"
   },
   "source": [
    "# Question 5: Quantize Biases"
   ]
  },
  {
   "cell_type": "markdown",
   "metadata": {
    "id": "xnTajSR6qpvZ"
   },
   "source": [
    "Let us now update our CNN to include a bias in its final layer, *fc3*.\n",
    "We have already included code to create and train a new CNN called `net_with_bias`.\n",
    "\n",
    "Consider how a bias affects the equation for an unquantized layer:\n",
    "\n",
    "$$W * In + \\beta = Out$$\n",
    "\n",
    "where $\\beta$ is the bias."
   ]
  },
  {
   "cell_type": "markdown",
   "metadata": {
    "id": "KVF-HrHTrCQ4"
   },
   "source": [
    "## Question 5.1:\n",
    "\n",
    "Suppose that we again quantized a biased layer with the same scaling factors we used in previous questions: $n_W$, $n_{In}$, and $n_{Out}$.\n",
    "What would we scale $\\beta$ by in this case?\n",
    "**Write an equation in your lab report to describe the output of the quantized layer with a bias (1 point).**"
   ]
  },
  {
   "cell_type": "markdown",
   "metadata": {},
   "source": [
    "### A:\n",
    "$$n_WW*n_{In}In*n_{Out} + n_{Out}\\beta= n_Wn_{In}n_{Out}Out$$"
   ]
  },
  {
   "cell_type": "markdown",
   "metadata": {
    "id": "6DSlteOIrW4n"
   },
   "source": [
    "Create a new network with a bias on *fc3*."
   ]
  },
  {
   "cell_type": "code",
   "execution_count": 33,
   "metadata": {
    "id": "bvv9-k1HPbgz"
   },
   "outputs": [],
   "source": [
    "class NetWithBias(nn.Module):\n",
    "    def __init__(self):\n",
    "        super(NetWithBias, self).__init__()\n",
    "\n",
    "        self.conv1 = nn.Conv2d(3, 12, 5, bias=False)\n",
    "        self.pool = nn.MaxPool2d(2, 2)\n",
    "        self.conv2 = nn.Conv2d(12, 32, 3, bias=False)\n",
    "        self.fc1 = nn.Linear(32 * 6 * 6, 256, bias=False)\n",
    "        self.fc2 = nn.Linear(256, 64, bias=False)\n",
    "        self.fc3 = nn.Linear(64, 10, bias=True)\n",
    "\n",
    "    def forward(self, x: torch.Tensor) -> torch.Tensor:\n",
    "        x = self.pool(F.relu(self.conv1(x)))\n",
    "        x = self.pool(F.relu(self.conv2(x)))\n",
    "        x = x.view(-1, 32 * 6 * 6)\n",
    "        x = F.relu(self.fc1(x))\n",
    "        x = F.relu(self.fc2(x))\n",
    "        x = self.fc3(x)\n",
    "\n",
    "        return x\n",
    "\n",
    "net_with_bias = NetWithBias().to(device)"
   ]
  },
  {
   "cell_type": "markdown",
   "metadata": {
    "id": "HwEA1Scirfgd"
   },
   "source": [
    "Train and score the network."
   ]
  },
  {
   "cell_type": "code",
   "execution_count": 34,
   "metadata": {
    "id": "wjk3hEQaVDpq"
   },
   "outputs": [
    {
     "name": "stdout",
     "output_type": "stream",
     "text": [
      "[1,  2000] loss: 2.141\n",
      "[1,  4000] loss: 1.790\n",
      "[1,  6000] loss: 1.577\n",
      "[1,  8000] loss: 1.510\n",
      "[1, 10000] loss: 1.467\n",
      "[1, 12000] loss: 1.400\n",
      "[2,  2000] loss: 1.290\n",
      "[2,  4000] loss: 1.238\n",
      "[2,  6000] loss: 1.204\n",
      "[2,  8000] loss: 1.188\n",
      "[2, 10000] loss: 1.153\n",
      "[2, 12000] loss: 1.135\n",
      "Finished Training\n"
     ]
    }
   ],
   "source": [
    "train(net_with_bias, trainloader)"
   ]
  },
  {
   "cell_type": "code",
   "execution_count": 35,
   "metadata": {
    "id": "9vLUCDnnVf4R"
   },
   "outputs": [
    {
     "name": "stdout",
     "output_type": "stream",
     "text": [
      "Accuracy of the network (with a bias) on the test images: 60.88%\n"
     ]
    }
   ],
   "source": [
    "score = test(net_with_bias, testloader)\n",
    "print('Accuracy of the network (with a bias) on the test images: {}%'.format(score))"
   ]
  },
  {
   "cell_type": "markdown",
   "metadata": {
    "id": "wfgx1kC9rpIB"
   },
   "source": [
    "Test the network with quantized weights but unquantized bias and **report the accuracy (1 point)**."
   ]
  },
  {
   "cell_type": "code",
   "execution_count": 36,
   "metadata": {
    "id": "U_ZiJk6yEEM-"
   },
   "outputs": [],
   "source": [
    "register_activation_profiling_hooks(net_with_bias)\n",
    "test(net_with_bias, trainloader, max_samples=400)\n",
    "net_with_bias.profile_activations = False"
   ]
  },
  {
   "cell_type": "code",
   "execution_count": 37,
   "metadata": {
    "id": "yZwk8KLtAUAM"
   },
   "outputs": [
    {
     "name": "stdout",
     "output_type": "stream",
     "text": [
      "Accuracy of the network on the test images after all the weights are quantized but the bias isn't: 57.07%\n"
     ]
    }
   ],
   "source": [
    "net_with_bias_with_quantized_weights = copy_model(net_with_bias)\n",
    "quantize_layer_weights(net_with_bias_with_quantized_weights)\n",
    "\n",
    "score = test(net_with_bias_with_quantized_weights, testloader)\n",
    "print('Accuracy of the network on the test images after all the weights are quantized but the bias isn\\'t: {}%'.format(score))"
   ]
  },
  {
   "cell_type": "markdown",
   "metadata": {
    "id": "1apkXYsdrvBD"
   },
   "source": [
    "## Question 5.2:\n",
    "\n",
    "Fill in the `quantized_bias` function in the `NetQuantizedWithBias` class.\n",
    "This function is meant to quantize the bias on the final layer of the CNN. You are suggested to use the method covered in the lecture.\n",
    "Keep in mind that biases are typically quantized to 32-bits, so your bias values do not all have to be between -128 and 127 (though 32-bits is a bit conservative)."
   ]
  },
  {
   "cell_type": "code",
   "execution_count": 38,
   "metadata": {
    "id": "ULnpgyBNw-Qo"
   },
   "outputs": [],
   "source": [
    "# slightly clearer bias bounds (32b signed integer)\n",
    "MIN_32B_SINT = -(2**31)\n",
    "MAX_32B_SINT = (2**31) - 1"
   ]
  },
  {
   "cell_type": "code",
   "execution_count": 39,
   "metadata": {
    "id": "mO2Gdu_tEZ4v"
   },
   "outputs": [],
   "source": [
    "class NetQuantizedWithBias(NetQuantized):\n",
    "    def __init__(self, net_with_weights_quantized: nn.Module):\n",
    "        super(NetQuantizedWithBias, self).__init__(net_with_weights_quantized)\n",
    "\n",
    "        preceding_scales = [(layer.weight.scale, layer.output_scale) for layer in self.children() if isinstance(layer, nn.Conv2d) or isinstance(layer, nn.Linear)][:-1]\n",
    "\n",
    "        #print(self.fc3.bias.data)\n",
    "        self.fc3.bias.data = NetQuantizedWithBias.quantized_bias(\n",
    "            self.fc3.bias.data,\n",
    "            self.fc3.weight.scale,\n",
    "            self.input_scale,\n",
    "            preceding_scales\n",
    "        )\n",
    "        #print(self.fc3.bias.data)\n",
    "        \n",
    "        if (self.fc3.bias.data < MIN_32B_SINT).any() or (self.fc3.bias.data > MAX_32B_SINT).any():\n",
    "            raise Exception(\"Bias has values which are out of bounds for an 32-bit signed integer\")\n",
    "        if (self.fc3.bias.data != self.fc3.bias.data.round()).any():\n",
    "            raise Exception(\"Bias has non-integer values\")\n",
    "\n",
    "    @staticmethod\n",
    "    def quantized_bias(bias: torch.Tensor, n_w: float, n_initial_input: float, ns: List[Tuple[float, float]]) -> torch.Tensor:\n",
    "        '''\n",
    "        Quantize the bias so that all values are integers between MIN_32B_SINT and MAX_32B_SINT.\n",
    "\n",
    "        Parameters:\n",
    "        bias (Tensor): The floating point values of the bias\n",
    "        n_w (float): The scale by which the weights of this layer were multiplied\n",
    "        n_initial_input (float): The scale by which the initial input to the neural network was multiplied\n",
    "        ns ([(float, float)]): A list of tuples, where each tuple represents the \"weight scale\" and \"output scale\" (in that order) for every preceding layer\n",
    "\n",
    "        Returns:\n",
    "        Tensor: The bias in quantized form, where every value is an integer between MIN_32B_SINT and MAX_32B_SINT.\n",
    "                The \"dtype\" will still be \"float\", but the values themselves should all be integers.\n",
    "        '''\n",
    "\n",
    "        # ADD YOUR CODE HERE to compute and replace the scale for bias (scale_bias)\n",
    "        scale_bias = n_initial_input*n_w\n",
    "        for i in range(0, len(ns)) :\n",
    "            scale_bias = scale_bias*ns[i][1]*ns[i][0]\n",
    "\n",
    "        return torch.clamp((bias * scale_bias).round(), min=MIN_32B_SINT, max=MAX_32B_SINT)"
   ]
  },
  {
   "cell_type": "code",
   "execution_count": 40,
   "metadata": {
    "id": "TA6rXt3Q-zF8"
   },
   "outputs": [],
   "source": [
    "net_quantized_with_bias = NetQuantizedWithBias(net_with_bias_with_quantized_weights)"
   ]
  },
  {
   "cell_type": "markdown",
   "metadata": {
    "id": "0sLGGUTsr-NH"
   },
   "source": [
    "## Question 5.3:\n",
    "\n",
    "What is your accuracy before and after quantizing CNN with the bias?\n",
    "The accuracy change should ideally be negligible or at least partially improved. **Report the value. (1 point)**"
   ]
  },
  {
   "cell_type": "code",
   "execution_count": 41,
   "metadata": {
    "id": "UJvR6Wv_GJJX"
   },
   "outputs": [
    {
     "name": "stdout",
     "output_type": "stream",
     "text": [
      "Accuracy of the network on the test images after all the weights and the bias are quantized: 60.9%\n"
     ]
    }
   ],
   "source": [
    "score = test(net_quantized_with_bias, testloader)\n",
    "print('Accuracy of the network on the test images after all the weights and the bias are quantized: {}%'.format(score))"
   ]
  }
 ],
 "metadata": {
  "accelerator": "GPU",
  "colab": {
   "collapsed_sections": [],
   "name": "EE290-2: Hardware For ML - Sp21 - Lab 1.ipynb",
   "provenance": []
  },
  "kernelspec": {
   "display_name": "Python 3.8.10 64-bit",
   "language": "python",
   "name": "python3"
  },
  "language_info": {
   "codemirror_mode": {
    "name": "ipython",
    "version": 3
   },
   "file_extension": ".py",
   "mimetype": "text/x-python",
   "name": "python",
   "nbconvert_exporter": "python",
   "pygments_lexer": "ipython3",
   "version": "3.10.6"
  },
  "vscode": {
   "interpreter": {
    "hash": "916dbcbb3f70747c44a77c7bcd40155683ae19c65e1c03b4aa3499c5328201f1"
   }
  }
 },
 "nbformat": 4,
 "nbformat_minor": 1
}
